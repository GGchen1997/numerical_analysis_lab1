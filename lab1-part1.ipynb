{
 "cells": [
  {
   "cell_type": "markdown",
   "metadata": {},
   "source": [
    "## Part 1"
   ]
  },
  {
   "cell_type": "markdown",
   "metadata": {},
   "source": [
    "#### 1.A relevant paper is L.N. Trefethen and R.S. Schreiber. Average-case stability of Gauss-ian elimination. Please read this paper in sufficient detail to understand the main points."
   ]
  },
  {
   "cell_type": "markdown",
   "metadata": {},
   "source": [
    "I have read the paper in sufficient detail and I have understood the main points."
   ]
  },
  {
   "cell_type": "markdown",
   "metadata": {},
   "source": [
    "#### 2.Write a function that takes n as its parameter and generates an nxn matrix, whose entries are random numbers with a normal distribution. "
   ]
  },
  {
   "cell_type": "code",
   "execution_count": 1,
   "metadata": {},
   "outputs": [],
   "source": [
    "import numpy as np\n",
    "def get_normal_matrix(n, mean=0.0, var=1.0):\n",
    "    return np.random.normal(mean, var, (n, n))"
   ]
  },
  {
   "cell_type": "markdown",
   "metadata": {},
   "source": [
    "#### 3.Implement Gaussian elimination with partial pivoting, and test it on a number of cases to be sure of its correctness."
   ]
  },
  {
   "cell_type": "code",
   "execution_count": 2,
   "metadata": {},
   "outputs": [],
   "source": [
    "def gau_pp(A, b, solver=False):\n",
    "    n = A.shape[0]\n",
    "    max0 = np.max(abs(A))\n",
    "    maxk = max0\n",
    "    for k in range(n):\n",
    "        max_index = abs(A[k:, k]).argmax() + k\n",
    "        if A[max_index,k]==0:\n",
    "            raise ValueError(\"Singular matrix\")\n",
    "        if max_index != k:\n",
    "            #change rows\n",
    "            A[[k,max_index]] = A[[max_index, k]]\n",
    "            b[[k,max_index]] = b[[max_index, k]]\n",
    "        for r in range(k+1, n):\n",
    "            mul = A[r, k]/A[k, k]\n",
    "            A[r, k:] = A[r, k:] - mul * A[k, k:]\n",
    "            b[r] = b[r] - mul * b[k]\n",
    "        maxk = max(maxk, np.max(abs(A)))\n",
    "    g = maxk/max0\n",
    "    x = None\n",
    "    if solver:\n",
    "        x = np.zeros(n)\n",
    "        for k in range(n-1, -1, -1):\n",
    "            x[k] = (b[k] - np.dot(A[k, k + 1:], x[k + 1:])) / A[k, k]\n",
    "    return A, b, x, g"
   ]
  },
  {
   "cell_type": "code",
   "execution_count": 3,
   "metadata": {},
   "outputs": [
    {
     "name": "stdout",
     "output_type": "stream",
     "text": [
      "for iter 0 true [ 1.00994589  1.37078055 -1.11124161  0.53430024  1.02058832] gpp [ 1.00994589  1.37078055 -1.11124161  0.53430024  1.02058832]\n",
      "for iter 1 true [-1.2555494   0.64925741 -0.11807838 -0.78097897 -0.41776669] gpp [-1.2555494   0.64925741 -0.11807838 -0.78097897 -0.41776669]\n",
      "for iter 2 true [ 1.0296812   1.41157669  1.39995177 -0.23734711  0.49094772] gpp [ 1.0296812   1.41157669  1.39995177 -0.23734711  0.49094772]\n",
      "for iter 3 true [-0.62520569  0.63911794  0.2085015  -0.32601037  1.04011023] gpp [-0.62520569  0.63911794  0.2085015  -0.32601037  1.04011023]\n",
      "for iter 4 true [11.56437316 18.00739065 -3.833588   -1.20792671  4.05697045] gpp [11.56437316 18.00739065 -3.833588   -1.20792671  4.05697045]\n"
     ]
    }
   ],
   "source": [
    "from numpy.linalg import inv\n",
    "NUM_TEST = 5\n",
    "n = 5\n",
    "for i in range(NUM_TEST):\n",
    "    A = get_normal_matrix(n, mean=0.0, var=1.0)\n",
    "    b = np.random.normal(0, 1, n)\n",
    "    ainv = inv(A)\n",
    "    x_true = np.dot(ainv, b)\n",
    "    _, _, x_gpp, _ = gau_pp(A, b, solver=True)\n",
    "    print(\"for iter {} true {} gpp {}\".format(i, x_true, x_gpp))    "
   ]
  },
  {
   "cell_type": "markdown",
   "metadata": {},
   "source": [
    "#### 4.Plot the growth factor against the matrix size"
   ]
  },
  {
   "cell_type": "markdown",
   "metadata": {},
   "source": [
    "Compute growth factor for matrixs."
   ]
  },
  {
   "cell_type": "code",
   "execution_count": 11,
   "metadata": {
    "scrolled": false
   },
   "outputs": [
    {
     "name": "stdout",
     "output_type": "stream",
     "text": [
      "current n is 10\n",
      "current n is 20\n",
      "current n is 30\n",
      "current n is 40\n",
      "current n is 50\n",
      "current n is 60\n",
      "current n is 70\n",
      "current n is 80\n",
      "current n is 90\n",
      "current n is 100\n",
      "current n is 110\n",
      "current n is 120\n",
      "current n is 130\n",
      "current n is 140\n",
      "current n is 150\n",
      "current n is 160\n",
      "current n is 170\n",
      "current n is 180\n",
      "current n is 190\n",
      "current n is 200\n",
      "current n is 210\n",
      "current n is 220\n",
      "current n is 230\n",
      "current n is 240\n",
      "current n is 250\n",
      "current n is 260\n",
      "current n is 270\n",
      "current n is 280\n",
      "current n is 290\n",
      "current n is 300\n",
      "current n is 310\n",
      "current n is 320\n",
      "current n is 330\n",
      "current n is 340\n",
      "current n is 350\n",
      "current n is 360\n",
      "current n is 370\n",
      "current n is 380\n",
      "current n is 390\n",
      "current n is 400\n",
      "current n is 410\n",
      "current n is 420\n",
      "current n is 430\n",
      "current n is 440\n",
      "current n is 450\n",
      "current n is 460\n",
      "current n is 470\n",
      "current n is 480\n",
      "current n is 490\n",
      "current n is 500\n",
      "current n is 510\n",
      "current n is 520\n",
      "current n is 530\n",
      "current n is 540\n",
      "current n is 550\n",
      "current n is 560\n",
      "current n is 570\n",
      "current n is 580\n",
      "current n is 590\n",
      "current n is 600\n",
      "current n is 610\n",
      "current n is 620\n",
      "current n is 630\n",
      "current n is 640\n",
      "current n is 650\n",
      "current n is 660\n",
      "current n is 670\n",
      "current n is 680\n",
      "current n is 690\n",
      "current n is 700\n",
      "current n is 710\n",
      "current n is 720\n",
      "current n is 730\n",
      "current n is 740\n",
      "current n is 750\n",
      "current n is 760\n",
      "current n is 770\n",
      "current n is 780\n",
      "current n is 790\n",
      "current n is 800\n",
      "current n is 810\n",
      "current n is 820\n",
      "current n is 830\n",
      "current n is 840\n",
      "current n is 850\n",
      "current n is 860\n",
      "current n is 870\n",
      "current n is 880\n",
      "current n is 890\n",
      "current n is 900\n",
      "current n is 910\n",
      "current n is 920\n",
      "current n is 930\n",
      "current n is 940\n",
      "current n is 950\n",
      "current n is 960\n",
      "current n is 970\n",
      "current n is 980\n",
      "current n is 990\n",
      "current n is 1000\n"
     ]
    }
   ],
   "source": [
    "import time\n",
    "Per_n = 100\n",
    "n = [i*10 for i in range(1, 101)]\n",
    "g = np.zeros(len(n))\n",
    "\n",
    "start = time.time()\n",
    "for i in range(len(n)):\n",
    "    tmp_l = []\n",
    "    n_value = n[i]\n",
    "    print('current n is {}'.format(n_value))\n",
    "    for j in range(Per_n):\n",
    "        A = get_normal_matrix(n_value)\n",
    "        b = np.random.normal(0, 1, n_value)\n",
    "        _, _, _, tmp = gau_pp(A, b, solver=False)\n",
    "        tmp_l.append(tmp)\n",
    "    g[i] = np.mean(tmp_l)\n",
    "end = time.time()\n",
    "\n",
    "np.save('g.npy', g) "
   ]
  },
  {
   "cell_type": "markdown",
   "metadata": {},
   "source": [
    "Plot the growth factor against the matrix size and calcute the coefficients"
   ]
  },
  {
   "cell_type": "code",
   "execution_count": 14,
   "metadata": {},
   "outputs": [
    {
     "data": {
      "image/png": "[encoded data removed]",
      "text/plain": [
       "<Figure size 432x288 with 1 Axes>"
      ]
     },
     "metadata": {
      "needs_background": "light"
     },
     "output_type": "display_data"
    },
    {
     "name": "stdout",
     "output_type": "stream",
     "text": [
      "g = 0.4518180823072029n^0.5440941677567507\n"
     ]
    }
   ],
   "source": [
    "import math\n",
    "import matplotlib.pyplot as plt\n",
    "\n",
    "log_g = np.log(g)\n",
    "log_n = np.log(n)\n",
    "\n",
    "plt.plot(log_n, log_g, color='green', marker='8')\n",
    "plt.legend(['the growth factor against the matrix size '], loc='lower left')\n",
    "plt.show()\n",
    "\n",
    "coeffs = np.polyfit(log_n, log_g, 1)\n",
    "alpha = coeffs[0]\n",
    "c = math.exp(coeffs[1])\n",
    "print('g = {}n^{}'.format(c, alpha))"
   ]
  },
  {
   "cell_type": "markdown",
   "metadata": {},
   "source": [
    "Here we can estimate alpha as 0.544 and c as 0.45, and it is much more smaller than 2^n"
   ]
  },
  {
   "cell_type": "markdown",
   "metadata": {},
   "source": [
    "#### 5. study the probability distribution of the growth factor for a fixed n."
   ]
  },
  {
   "cell_type": "code",
   "execution_count": 18,
   "metadata": {},
   "outputs": [
    {
     "name": "stderr",
     "output_type": "stream",
     "text": [
      "<ipython-input-2-abe49f348e5c>:16: RuntimeWarning: overflow encountered in double_scalars\n",
      "  b[r] = b[r] - mul * b[k]\n",
      "<ipython-input-2-abe49f348e5c>:16: RuntimeWarning: invalid value encountered in double_scalars\n",
      "  b[r] = b[r] - mul * b[k]\n"
     ]
    }
   ],
   "source": [
    "import time\n",
    "n_l = [10, 20, 40, 80]\n",
    "g_l = [[], [], [], []]\n",
    "NUM = 10000\n",
    "start = time.time()\n",
    "for i in range(len(n_l)):\n",
    "    n = n_l[i]\n",
    "    b = np.random.normal(0, 1, n)\n",
    "    for j in range(NUM):\n",
    "        A = get_normal_matrix(n, mean=0.0, var=1.0)\n",
    "        _, _, _, tmp = gau_pp(A, b, solver=False)\n",
    "        g_l[i].append(tmp)      \n",
    "end = time.time()\n",
    "np.save('g_n.npy', g_l)"
   ]
  },
  {
   "cell_type": "markdown",
   "metadata": {},
   "source": [
    "Plot the approximation of the probability density function of the growth factor."
   ]
  },
  {
   "cell_type": "code",
   "execution_count": 34,
   "metadata": {},
   "outputs": [],
   "source": [
    "def get_bar_x(x):\n",
    "    L = len(x)\n",
    "    bar_x = np.zeros(L-1)\n",
    "    for i in range(L-1):\n",
    "        bar_x[i] = (x[i]+x[i+1])/2\n",
    "    return bar_x        "
   ]
  },
  {
   "cell_type": "code",
   "execution_count": 36,
   "metadata": {},
   "outputs": [
    {
     "data": {
      "image/png": "[encoded data removed]",
      "text/plain": [
       "<Figure size 432x288 with 1 Axes>"
      ]
     },
     "metadata": {
      "needs_background": "light"
     },
     "output_type": "display_data"
    }
   ],
   "source": [
    "y, x = np.histogram(g_l[0], bins=30)\n",
    "x = get_bar_x(x)\n",
    "y= np.log(y/np.sum(y))\n",
    "\n",
    "plt.plot(x, y, color='green', marker='8')\n",
    "plt.legend(['growth factor density for n=10'], loc='lower left')\n",
    "plt.show()"
   ]
  },
  {
   "cell_type": "code",
   "execution_count": 42,
   "metadata": {},
   "outputs": [
    {
     "data": {
      "image/png": "[encoded data removed]",
      "text/plain": [
       "<Figure size 432x288 with 1 Axes>"
      ]
     },
     "metadata": {
      "needs_background": "light"
     },
     "output_type": "display_data"
    }
   ],
   "source": [
    "y, x = np.histogram(g_l[1], bins=50)\n",
    "y = y[0:30]\n",
    "x = get_bar_x(x[0:31])\n",
    "y= np.log(y/np.sum(y))\n",
    "\n",
    "plt.plot(x, y, color='green', marker='8')\n",
    "plt.legend(['growth factor density for n=20'], loc='lower left')\n",
    "plt.show()"
   ]
  },
  {
   "cell_type": "code",
   "execution_count": 46,
   "metadata": {},
   "outputs": [
    {
     "data": {
      "image/png": "[encoded data removed]",
      "text/plain": [
       "<Figure size 432x288 with 1 Axes>"
      ]
     },
     "metadata": {
      "needs_background": "light"
     },
     "output_type": "display_data"
    }
   ],
   "source": [
    "y, x = np.histogram(g_l[2], bins=50)\n",
    "y = y[0:30]\n",
    "x = get_bar_x(x[0:31])\n",
    "y= np.log(y/np.sum(y))\n",
    "\n",
    "plt.plot(x, y, color='green', marker='8')\n",
    "plt.legend(['growth factor density for n=40'], loc='lower left')\n",
    "plt.show()"
   ]
  },
  {
   "cell_type": "code",
   "execution_count": 49,
   "metadata": {},
   "outputs": [
    {
     "data": {
      "image/png": "[encoded data removed]",
      "text/plain": [
       "<Figure size 432x288 with 1 Axes>"
      ]
     },
     "metadata": {
      "needs_background": "light"
     },
     "output_type": "display_data"
    }
   ],
   "source": [
    "y, x = np.histogram(g_l[3], bins=50)\n",
    "y = y[0:30]\n",
    "x = get_bar_x(x[0:31])\n",
    "y= np.log(y/np.sum(y))\n",
    "\n",
    "plt.plot(x, y, color='green', marker='8')\n",
    "plt.legend(['growth factor density for n=80'], loc='lower left')\n",
    "plt.show()"
   ]
  },
  {
   "cell_type": "markdown",
   "metadata": {},
   "source": [
    "We can see that the tail decays exponentially.We can see that the probability density decays as the growth factor becomes large."
   ]
  }
 ],
 "metadata": {
  "kernelspec": {
   "display_name": "Python 3",
   "language": "python",
   "name": "python3"
  },
  "language_info": {
   "codemirror_mode": {
    "name": "ipython",
    "version": 3
   },
   "file_extension": ".py",
   "mimetype": "text/x-python",
   "name": "python",
   "nbconvert_exporter": "python",
   "pygments_lexer": "ipython3",
   "version": "3.8.3"
  }
 },
 "nbformat": 4,
 "nbformat_minor": 4
}
