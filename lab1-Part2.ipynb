{
 "cells": [
  {
   "cell_type": "markdown",
   "metadata": {},
   "source": [
    "## Part 2 "
   ]
  },
  {
   "cell_type": "markdown",
   "metadata": {},
   "source": [
    "### 0. First，we need to generate A and b"
   ]
  },
  {
   "cell_type": "code",
   "execution_count": 44,
   "metadata": {},
   "outputs": [],
   "source": [
    "import numpy as np\n",
    "\n",
    "A = np.zeros((1000, 1000))\n",
    "for i in range(A.shape[0]):\n",
    "    A[i][i] = i+1\n",
    "for j in range(A.shape[0]-1):\n",
    "    A[j][j+1] = 1\n",
    "for j in range(1, A.shape[0]):\n",
    "    A[j][j-1] = 1\n",
    "\n",
    "b = np.ones(1000)"
   ]
  },
  {
   "cell_type": "markdown",
   "metadata": {},
   "source": [
    "### 1. Write a code that performs 1000 (or more) steps of the steepest descent to approximately solve Ax = b."
   ]
  },
  {
   "cell_type": "code",
   "execution_count": 45,
   "metadata": {},
   "outputs": [],
   "source": [
    "def SD(x0, A, b, MAX_ITER=1000):\n",
    "    his_r = []\n",
    "    r = b - np.dot(A, x0)\n",
    "    x = x0\n",
    "    for i in range(MAX_ITER):\n",
    "        his_r.append(np.dot(r.transpose(), r))\n",
    "        \n",
    "        tmp = np.dot(A, r)\n",
    "        alpha = np.dot(r.transpose(), r)/np.dot(r.transpose(), tmp)\n",
    "        x = x + alpha*r\n",
    "        r = r - alpha*tmp\n",
    "    return np.sqrt(his_r)"
   ]
  },
  {
   "cell_type": "markdown",
   "metadata": {},
   "source": [
    "### 2. Write a code that performs 1000 steps of the CG to approximately solve Ax = b."
   ]
  },
  {
   "cell_type": "code",
   "execution_count": 46,
   "metadata": {},
   "outputs": [],
   "source": [
    "def CG(x0, A, b, MAX_ITER=1000):\n",
    "    his_r = []\n",
    "    his_ar = []\n",
    "    r = b - np.dot(A, x0)\n",
    "    x = x0\n",
    "    p = r\n",
    "    for i in range(MAX_ITER):\n",
    "        his_r.append(np.dot(r.transpose(), r))\n",
    "        r_tmp = b - np.dot(A, x)\n",
    "        his_ar.append(np.dot(r_tmp.transpose(), r_tmp))\n",
    "        \n",
    "        tmp = np.dot(A, p)\n",
    "        alpha = np.dot(p.transpose(), r)/np.dot(p.transpose(), tmp)\n",
    "        x = x + alpha*p\n",
    "        r = r - alpha*tmp\n",
    "        beta = np.dot(tmp.transpose(), r)/np.dot(tmp.transpose(), p)\n",
    "        p = r - beta*p\n",
    "    return (np.sqrt(his_r), np.sqrt(his_ar))"
   ]
  },
  {
   "cell_type": "markdown",
   "metadata": {},
   "source": [
    "### 3. Produce a plot with four curves on it"
   ]
  },
  {
   "cell_type": "markdown",
   "metadata": {},
   "source": [
    "The computed residual norms and the actual residual norms for CG."
   ]
  },
  {
   "cell_type": "code",
   "execution_count": 47,
   "metadata": {},
   "outputs": [],
   "source": [
    "computed_norm, actual_norm = CG(np.ones(1000), A, b)"
   ]
  },
  {
   "cell_type": "markdown",
   "metadata": {},
   "source": [
    "The residual norms for steepest descent."
   ]
  },
  {
   "cell_type": "code",
   "execution_count": 48,
   "metadata": {},
   "outputs": [],
   "source": [
    "residual_norm = SD(np.ones(1000), A, b)"
   ]
  },
  {
   "cell_type": "markdown",
   "metadata": {},
   "source": [
    "The estimate"
   ]
  },
  {
   "cell_type": "code",
   "execution_count": 49,
   "metadata": {},
   "outputs": [],
   "source": [
    "from numpy import linalg as LA\n",
    "K = LA.cond(A)\n",
    "tmp = (np.sqrt(K)-1)/(np.sqrt(K)+1)\n",
    "estimate = [(2*np.power(tmp, i)) for i in range(1000)]"
   ]
  },
  {
   "cell_type": "markdown",
   "metadata": {},
   "source": [
    "The plot with the four curves"
   ]
  },
  {
   "cell_type": "code",
   "execution_count": 50,
   "metadata": {},
   "outputs": [
    {
     "data": {
      "image/png": "[encoded data removed]",
      "text/plain": [
       "<Figure size 432x288 with 1 Axes>"
      ]
     },
     "metadata": {
      "needs_background": "light"
     },
     "output_type": "display_data"
    }
   ],
   "source": [
    "import matplotlib.pyplot as plt\n",
    "index = np.arange(1000)\n",
    "plt.plot(index, np.log(computed_norm), color='black', marker='^')\n",
    "plt.plot(index, np.log(actual_norm), color='red', marker='<')\n",
    "plt.plot(index, np.log(residual_norm), color='blue', marker='>')\n",
    "plt.plot(index, np.log(estimate), color='green', marker='8')\n",
    "plt.legend(['computed_norm for CG', 'actual_norm for CG', 'residual_norm for SD', 'estimate'], loc='lower left')\n",
    "plt.show()"
   ]
  },
  {
   "cell_type": "markdown",
   "metadata": {},
   "source": [
    "### 4. Comment on your results."
   ]
  },
  {
   "cell_type": "markdown",
   "metadata": {},
   "source": [
    "#### a. CG converges much more faster than SD. From this graph, we can see that CG gets a very good solution around step 240.\n",
    "#### b. In textbook page155 Theorem 4.12, we can see rk/r0 is bounded by the estimate. So as the estimate becomes smaller, the upper bound of rk becomes smaller. This means convergence. I showed Elham Pilvar where we can find the theorem.\n",
    "\n",
    "#### c. As for the difference between computed norm and actual norm for CG, I think it is caused by the machine precision. The true residual and the computed residual is the same at the begining and the computed residual becomes so small that some perturbations are introduced to rk. Later we use rk to do the iteration and the perturbation can accumulate.  \n",
    "\n",
    "#### d. I try to quantify the error and then Elham Pilvar told me she saw a similar paper named “On the Behavior of the Residuals in Conjugate Gradient Method , Teruyoshi Washizawa”. From this paper, I gain a better understanding of this phenomenon. In the related work, many researchers have studied the problem. In this paper the author showed that the true and the recursive residual has the 2-norm almost monotonicity in finite arithmetic, respectively, and the author studied lower bounds of error and residual in finite arithmetic."
   ]
  },
  {
   "cell_type": "code",
   "execution_count": null,
   "metadata": {},
   "outputs": [],
   "source": []
  }
 ],
 "metadata": {
  "kernelspec": {
   "display_name": "Python 3",
   "language": "python",
   "name": "python3"
  },
  "language_info": {
   "codemirror_mode": {
    "name": "ipython",
    "version": 3
   },
   "file_extension": ".py",
   "mimetype": "text/x-python",
   "name": "python",
   "nbconvert_exporter": "python",
   "pygments_lexer": "ipython3",
   "version": "3.8.3"
  }
 },
 "nbformat": 4,
 "nbformat_minor": 4
}
